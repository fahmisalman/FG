{
 "cells": [
  {
   "cell_type": "code",
   "execution_count": 89,
   "metadata": {},
   "outputs": [],
   "source": [
    "import numpy as np\n",
    "import glob\n",
    "import nltk\n",
    "import re"
   ]
  },
  {
   "cell_type": "code",
   "execution_count": 83,
   "metadata": {},
   "outputs": [],
   "source": [
    "from tensorflow.keras.utils import to_categorical\n",
    "from tensorflow.keras.preprocessing.text import Tokenizer\n",
    "from tensorflow.keras.preprocessing.sequence import pad_sequences"
   ]
  },
  {
   "cell_type": "code",
   "execution_count": 36,
   "metadata": {},
   "outputs": [],
   "source": [
    "def loadData(location):\n",
    "    data = []\n",
    "    for name in glob.glob(location):\n",
    "        file = open(name, encoding=\"utf8\", errors='ignore')\n",
    "        s = file.read()\n",
    "        data.append([s, location])\n",
    "    return data"
   ]
  },
  {
   "cell_type": "code",
   "execution_count": 102,
   "metadata": {},
   "outputs": [],
   "source": [
    "data = []\n",
    "data += loadData('Dataset/business/*.txt')\n",
    "data += loadData('Dataset/entertainment/*.txt')\n",
    "data += loadData('Dataset/politics/*.txt')\n",
    "data += loadData('Dataset/sport/*.txt')\n",
    "data += loadData('Dataset/tech/*.txt')\n",
    "\n",
    "x_train = []\n",
    "y_train = []\n",
    "\n",
    "for i in range(len(data)):\n",
    "    data[i][0] = re.sub('\\n', '. ', data[i][0])\n",
    "    data[i][0] = data[i][0].lower()\n",
    "    data[i][0] = re.sub(r'[^a-z]', ' ', data[i][0])\n",
    "    x_train.append(data[i][0])\n",
    "    \n",
    "    data[i][1] = re.sub('Dataset', '', data[i][1])\n",
    "    data[i][1] = re.sub('.txt', '', data[i][1])\n",
    "    data[i][1] = re.sub('/', '', data[i][1])\n",
    "    data[i][1] = re.sub(r'[^a-z]', '', data[i][1])\n",
    "    y_train.append(data[i][1])"
   ]
  },
  {
   "cell_type": "code",
   "execution_count": 103,
   "metadata": {},
   "outputs": [],
   "source": [
    "num_words = 10000\n",
    "tokenizer = Tokenizer(num_words=10000)\n",
    "tokenizer.fit_on_texts(x_train)\n",
    "\n",
    "x_train_tokens = tokenizer.texts_to_sequences(x_train)\n",
    "x_train_tokens = pad_sequences(x_train_tokens, maxlen=5000, padding='pre', truncating='pre')\n",
    "\n",
    "def one_hot_encoder(y):\n",
    "    list_label = list(set(y))\n",
    "    label = np.zeros([len(y), len(list_label)])\n",
    "    for i in range(len(y)):\n",
    "        label[i][list_label.index(y[i])] = 1\n",
    "    return label\n",
    "\n",
    "y_train = one_hot_encoder(y_train)"
   ]
  },
  {
   "cell_type": "code",
   "execution_count": 104,
   "metadata": {},
   "outputs": [
    {
     "data": {
      "text/plain": [
       "array([[   0,    0,    0, ...,    3,   10, 1233],\n",
       "       [   0,    0,    0, ...,    5, 1998, 2308],\n",
       "       [   0,    0,    0, ...,    6,    1,  441],\n",
       "       ...,\n",
       "       [   0,    0,    0, ...,  449,  141,  227],\n",
       "       [   0,    0,    0, ...,   73,    6, 2696],\n",
       "       [   0,    0,    0, ...,   14,    1,  368]], dtype=int32)"
      ]
     },
     "execution_count": 104,
     "metadata": {},
     "output_type": "execute_result"
    }
   ],
   "source": [
    "x_train_tokens"
   ]
  },
  {
   "cell_type": "code",
   "execution_count": 81,
   "metadata": {},
   "outputs": [],
   "source": [
    "from tensorflow.keras.models import Sequential\n",
    "from tensorflow.keras.layers import Dense, GRU, Embedding\n",
    "from tensorflow.keras.optimizers import Adam\n",
    "from tensorflow.keras.preprocessing.text import Tokenizer\n",
    "from tensorflow.keras.preprocessing.sequence import pad_sequences"
   ]
  },
  {
   "cell_type": "code",
   "execution_count": null,
   "metadata": {},
   "outputs": [
    {
     "name": "stderr",
     "output_type": "stream",
     "text": [
      "/Users/fahmisalman/.conda/envs/Anaconda3.6/lib/python3.6/site-packages/tensorflow/python/ops/gradients_impl.py:100: UserWarning: Converting sparse IndexedSlices to a dense Tensor of unknown shape. This may consume a large amount of memory.\n",
      "  \"Converting sparse IndexedSlices to a dense Tensor of unknown shape. \"\n"
     ]
    },
    {
     "name": "stdout",
     "output_type": "stream",
     "text": [
      "Epoch 1/1\n",
      " 416/2225 [====>.........................] - ETA: 13:42 - loss: 0.5018 - acc: 0.8000"
     ]
    }
   ],
   "source": [
    "model = Sequential()\n",
    "max_tokens = 5000\n",
    "embedding_size = 8\n",
    "model.add(Embedding(input_dim=num_words,\n",
    "                    output_dim=embedding_size,\n",
    "                    input_length=max_tokens,\n",
    "                    name='layer_embedding'))\n",
    "model.add(GRU(units=16, return_sequences=True))\n",
    "model.add(GRU(units=8, return_sequences=True))\n",
    "model.add(GRU(units=4))\n",
    "model.add(Dense(5, activation='softmax'))\n",
    "optimizer = Adam(lr=1e-3)\n",
    "model.compile(loss='binary_crossentropy',\n",
    "              optimizer=optimizer,\n",
    "              metrics=['accuracy'])\n",
    "y_train = np.array(y_train)\n",
    "model.fit(x_train_tokens, y_train)"
   ]
  },
  {
   "cell_type": "code",
   "execution_count": null,
   "metadata": {},
   "outputs": [],
   "source": []
  }
 ],
 "metadata": {
  "kernelspec": {
   "display_name": "Python 3",
   "language": "python",
   "name": "python3"
  },
  "language_info": {
   "codemirror_mode": {
    "name": "ipython",
    "version": 3
   },
   "file_extension": ".py",
   "mimetype": "text/x-python",
   "name": "python",
   "nbconvert_exporter": "python",
   "pygments_lexer": "ipython3",
   "version": "3.6.2"
  }
 },
 "nbformat": 4,
 "nbformat_minor": 2
}
